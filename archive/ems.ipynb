{
 "metadata": {
  "language_info": {
   "codemirror_mode": {
    "name": "ipython",
    "version": 3
   },
   "file_extension": ".py",
   "mimetype": "text/x-python",
   "name": "python",
   "nbconvert_exporter": "python",
   "pygments_lexer": "ipython3",
   "version": "3.8.3-final"
  },
  "orig_nbformat": 2,
  "kernelspec": {
   "name": "python3",
   "display_name": "Python 3",
   "language": "python"
  }
 },
 "nbformat": 4,
 "nbformat_minor": 2,
 "cells": [
  {
   "cell_type": "code",
   "execution_count": 1,
   "metadata": {},
   "outputs": [],
   "source": [
    "import pandas as pd\n",
    "import numpy as np\n",
    "import matplotlib.pyplot as plt\n",
    "plt.rcParams[\"figure.figsize\"] = [16,9]"
   ]
  },
  {
   "cell_type": "code",
   "execution_count": 2,
   "metadata": {},
   "outputs": [
    {
     "output_type": "stream",
     "name": "stdout",
     "text": [
      "CPU times: user 1.99 s, sys: 174 ms, total: 2.16 s\nWall time: 2.18 s\n"
     ]
    }
   ],
   "source": [
    "%%time\n",
    "ems_data = pd.read_csv('./ems-incident-dispatch-data.csv', parse_dates=['INCIDENT_DATETIME'], nrows=300000)"
   ]
  },
  {
   "cell_type": "code",
   "execution_count": 3,
   "metadata": {},
   "outputs": [
    {
     "output_type": "stream",
     "name": "stdout",
     "text": [
      "<class 'pandas.core.frame.DataFrame'>\nRangeIndex: 300000 entries, 0 to 299999\nData columns (total 7 columns):\n #   Column                        Non-Null Count   Dtype         \n---  ------                        --------------   -----         \n 0   INCIDENT_DATETIME             300000 non-null  datetime64[ns]\n 1   INITIAL_CALL_TYPE             300000 non-null  object        \n 2   INITIAL_SEVERITY_LEVEL_CODE   300000 non-null  int64         \n 3   DISPATCH_RESPONSE_SECONDS_QY  300000 non-null  int64         \n 4   MONTH                         300000 non-null  object        \n 5   DAY                           300000 non-null  object        \n 6   HOUR                          300000 non-null  object        \ndtypes: datetime64[ns](1), int64(2), object(4)\nmemory usage: 16.0+ MB\n"
     ]
    }
   ],
   "source": [
    "dataset = ems_data[['INCIDENT_DATETIME','INITIAL_CALL_TYPE','INITIAL_SEVERITY_LEVEL_CODE','DISPATCH_RESPONSE_SECONDS_QY']]\n",
    "dataset['MONTH'] = dataset.INCIDENT_DATETIME.dt.month_name()\n",
    "dataset['DAY'] = dataset.INCIDENT_DATETIME.dt.day_name()\n",
    "dataset['HOUR'] = dataset.INCIDENT_DATETIME.dt.hour.astype('str')\n",
    "dataset.info()"
   ]
  },
  {
   "cell_type": "code",
   "execution_count": 4,
   "metadata": {},
   "outputs": [
    {
     "output_type": "execute_result",
     "data": {
      "text/plain": [
       "         INCIDENT_DATETIME INITIAL_CALL_TYPE  INITIAL_SEVERITY_LEVEL_CODE  \\\n",
       "196056 2018-11-13 12:40:50            STATEP                            2   \n",
       "213867 2018-11-08 21:46:59            GYNHEM                            5   \n",
       "198456 2018-11-12 20:37:15            INHALE                            5   \n",
       "285804 2018-10-22 21:09:29               EDP                            7   \n",
       "291856 2018-10-21 10:03:22            STATEP                            2   \n",
       "\n",
       "        DISPATCH_RESPONSE_SECONDS_QY     MONTH       DAY HOUR  \n",
       "196056                            21  November   Tuesday   12  \n",
       "213867                             4  November  Thursday   21  \n",
       "198456                            13  November    Monday   20  \n",
       "285804                            14   October    Monday   21  \n",
       "291856                             7   October    Sunday   10  "
      ],
      "text/html": "<div>\n<style scoped>\n    .dataframe tbody tr th:only-of-type {\n        vertical-align: middle;\n    }\n\n    .dataframe tbody tr th {\n        vertical-align: top;\n    }\n\n    .dataframe thead th {\n        text-align: right;\n    }\n</style>\n<table border=\"1\" class=\"dataframe\">\n  <thead>\n    <tr style=\"text-align: right;\">\n      <th></th>\n      <th>INCIDENT_DATETIME</th>\n      <th>INITIAL_CALL_TYPE</th>\n      <th>INITIAL_SEVERITY_LEVEL_CODE</th>\n      <th>DISPATCH_RESPONSE_SECONDS_QY</th>\n      <th>MONTH</th>\n      <th>DAY</th>\n      <th>HOUR</th>\n    </tr>\n  </thead>\n  <tbody>\n    <tr>\n      <th>196056</th>\n      <td>2018-11-13 12:40:50</td>\n      <td>STATEP</td>\n      <td>2</td>\n      <td>21</td>\n      <td>November</td>\n      <td>Tuesday</td>\n      <td>12</td>\n    </tr>\n    <tr>\n      <th>213867</th>\n      <td>2018-11-08 21:46:59</td>\n      <td>GYNHEM</td>\n      <td>5</td>\n      <td>4</td>\n      <td>November</td>\n      <td>Thursday</td>\n      <td>21</td>\n    </tr>\n    <tr>\n      <th>198456</th>\n      <td>2018-11-12 20:37:15</td>\n      <td>INHALE</td>\n      <td>5</td>\n      <td>13</td>\n      <td>November</td>\n      <td>Monday</td>\n      <td>20</td>\n    </tr>\n    <tr>\n      <th>285804</th>\n      <td>2018-10-22 21:09:29</td>\n      <td>EDP</td>\n      <td>7</td>\n      <td>14</td>\n      <td>October</td>\n      <td>Monday</td>\n      <td>21</td>\n    </tr>\n    <tr>\n      <th>291856</th>\n      <td>2018-10-21 10:03:22</td>\n      <td>STATEP</td>\n      <td>2</td>\n      <td>7</td>\n      <td>October</td>\n      <td>Sunday</td>\n      <td>10</td>\n    </tr>\n  </tbody>\n</table>\n</div>"
     },
     "metadata": {},
     "execution_count": 4
    }
   ],
   "source": [
    "dataset.sample(5)"
   ]
  },
  {
   "cell_type": "code",
   "execution_count": 5,
   "metadata": {},
   "outputs": [
    {
     "output_type": "execute_result",
     "data": {
      "text/plain": [
       "0.10428916291114526"
      ]
     },
     "metadata": {},
     "execution_count": 5
    }
   ],
   "source": [
    "dataset.INITIAL_SEVERITY_LEVEL_CODE.corr(dataset.DISPATCH_RESPONSE_SECONDS_QY)"
   ]
  },
  {
   "cell_type": "code",
   "execution_count": 7,
   "metadata": {},
   "outputs": [],
   "source": [
    "from sklearn.model_selection import train_test_split, cross_val_score\n",
    "\n",
    "numeric_features = ['INITIAL_SEVERITY_LEVEL_CODE']\n",
    "categorical_features = ['INITIAL_CALL_TYPE','MONTH','DAY','HOUR']\n",
    "\n",
    "X = dataset[numeric_features + categorical_features]\n",
    "y = dataset.DISPATCH_RESPONSE_SECONDS_QY\n",
    "X_train, X_test, y_train, y_test = train_test_split(X, y)"
   ]
  },
  {
   "cell_type": "code",
   "execution_count": 8,
   "metadata": {},
   "outputs": [],
   "source": [
    "from sklearn.compose import ColumnTransformer\n",
    "from sklearn.preprocessing import PolynomialFeatures\n",
    "from sklearn.linear_model import SGDRegressor\n",
    "from sklearn.preprocessing import StandardScaler, OneHotEncoder\n",
    "from sklearn.pipeline import Pipeline\n",
    "\n",
    "numeric_transformer = Pipeline(steps=[('poly',PolynomialFeatures(degree = 2)),\n",
    "                                      ('scaler', StandardScaler())])\n",
    "\n",
    "categorical_transformer = Pipeline(steps=[\n",
    "    ('onehot', OneHotEncoder(handle_unknown='ignore'))])\n",
    "\n",
    "preprocessor = ColumnTransformer(\n",
    "    transformers=[\n",
    "        ('num', numeric_transformer, numeric_features),\n",
    "        ('cat', categorical_transformer, categorical_features)])\n",
    "\n",
    "model = SGDRegressor()\n",
    "\n",
    "p = Pipeline([('preprocessor', preprocessor), ('model', model)])"
   ]
  },
  {
   "cell_type": "code",
   "execution_count": 9,
   "metadata": {},
   "outputs": [
    {
     "output_type": "stream",
     "name": "stdout",
     "text": [
      "CPU times: user 2.34 s, sys: 77.5 ms, total: 2.42 s\nWall time: 2.45 s\n"
     ]
    },
    {
     "output_type": "execute_result",
     "data": {
      "text/plain": [
       "0.06383433584428122"
      ]
     },
     "metadata": {},
     "execution_count": 9
    }
   ],
   "source": [
    "%%time\n",
    "p.fit(X_train, y_train)\n",
    "p.score(X_test, y_test)"
   ]
  },
  {
   "cell_type": "code",
   "execution_count": 10,
   "metadata": {},
   "outputs": [
    {
     "output_type": "execute_result",
     "data": {
      "text/plain": [
       "581.5555404876784"
      ]
     },
     "metadata": {},
     "execution_count": 10
    }
   ],
   "source": [
    "scores = cross_val_score(p, X, y, cv=10, scoring='neg_mean_squared_error')\n",
    "np.mean(np.sqrt(-scores))"
   ]
  },
  {
   "source": [
    "## Feature selection\n"
   ],
   "cell_type": "markdown",
   "metadata": {}
  },
  {
   "cell_type": "code",
   "execution_count": null,
   "metadata": {},
   "outputs": [],
   "source": []
  }
 ]
}