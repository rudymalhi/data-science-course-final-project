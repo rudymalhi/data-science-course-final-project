{
 "metadata": {
  "language_info": {
   "codemirror_mode": {
    "name": "ipython",
    "version": 3
   },
   "file_extension": ".py",
   "mimetype": "text/x-python",
   "name": "python",
   "nbconvert_exporter": "python",
   "pygments_lexer": "ipython3",
   "version": "3.8.3-final"
  },
  "orig_nbformat": 2,
  "kernelspec": {
   "name": "python3",
   "display_name": "Python 3",
   "language": "python"
  }
 },
 "nbformat": 4,
 "nbformat_minor": 2,
 "cells": [
  {
   "source": [
    "This reads the was EMS incidents data, filters out the asthma related incidents and writes it to csv"
   ],
   "cell_type": "markdown",
   "metadata": {}
  },
  {
   "cell_type": "code",
   "execution_count": 1,
   "metadata": {},
   "outputs": [
    {
     "output_type": "stream",
     "name": "stdout",
     "text": [
      "CPU times: user 1min 8s, sys: 21.9 s, total: 1min 30s\nWall time: 1min 42s\n"
     ]
    }
   ],
   "source": [
    "%%time\n",
    "import pandas as pd\n",
    "raw_data = pd.read_csv('./ems-incident-dispatch-data.csv', parse_dates=['INCIDENT_DATETIME'])\n",
    "asthma_related = raw_data[raw_data.INITIAL_CALL_TYPE.str.startswith('ASTH') | raw_data.FINAL_CALL_TYPE.str.startswith('ASTH')]\n",
    "asthma_related.to_csv('./asthma-data.csv')"
   ]
  },
  {
   "cell_type": "code",
   "execution_count": null,
   "metadata": {},
   "outputs": [],
   "source": []
  }
 ]
}